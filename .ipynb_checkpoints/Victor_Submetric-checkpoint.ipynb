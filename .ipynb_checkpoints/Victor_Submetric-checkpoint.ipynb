{
 "cells": [
  {
   "cell_type": "code",
   "execution_count": null,
   "metadata": {},
   "outputs": [],
   "source": [
    "#import pandas and initialize dataset\n",
    "#dataset are arrests made in pittsburgh neighborhoods between 2016-2022\n",
    "#the idea is to find the neighborhood(s) with least arrests since less crime = safer neighborhood\n",
    "import pandas as pd\n",
    "\n",
    "arrest_data = pd.read_csv(\"arrest_data.csv\")\n",
    "arrest_data.head()"
   ]
  },
  {
   "cell_type": "code",
   "execution_count": 6,
   "metadata": {},
   "outputs": [
    {
     "name": "stdout",
     "output_type": "stream",
     "text": [
      "{'Bloomfield': 837, 'Outside City': 259, 'Westwood': 188, 'East Allegheny': 1773, 'Crafton Heights': 480, 'Greenfield': 441, 'Brookline': 1111, 'Regent Square': 28, 'East Liberty': 1533, nan: 2038, 'East Hills': 952, 'Carrick': 1960, 'Allegheny Center': 1014, 'South Side Flats': 2843, 'Sheraden': 1065, 'East Carnegie': 44, 'Golden Triangle/Civic Arena': 83, 'Point Breeze North': 232, 'Perry South': 892, 'Allentown': 802, 'North Shore': 657, 'Marshall-Shadeland': 1255, 'Central Oakland': 440, 'Middle Hill': 789, 'Strip District': 416, 'Lincoln-Lemington-Belmar': 1057, 'Central Northside': 23, 'Troy Hill-Herrs Island': 6, 'Highland Park': 483, 'Homewood North': 1647, 'Northview Heights': 595, 'Brighton Heights': 921, 'Hazelwood': 1116, 'Perry North': 532, 'Bedford Dwellings': 529, 'Elliott': 545, 'Beechview': 1030, 'Fineview': 727, 'Glen Hazel': 136, 'Spring Hill-City View': 606, 'Bluff': 1219, 'Manchester': 420, 'Homewood West': 661, 'Outside County': 46, 'Point Breeze': 275, 'Homewood South': 1744, 'Squirrel Hill South': 667, 'Terrace Village': 227, 'Upper Lawrenceville': 161, 'Arlington': 250, 'South Side Slopes': 677, 'Lower Lawrenceville': 215, 'Garfield': 582, 'Lincoln Place': 174, 'Larimer': 706, 'Mount Washington': 1188, 'California-Kirkbride': 239, 'Banksville': 243, 'Bon Air': 217, 'South Shore': 248, 'Beltzhoover': 435, 'Knoxville': 1122, 'Chateau': 361, 'Crawford-Roberts': 685, 'Polish Hill': 137, 'Fairywood': 100, 'West End': 233, 'Shadyside': 814, 'Morningside': 168, 'Overbrook': 262, 'Friendship': 143, 'North Oakland': 359, 'Central Lawrenceville': 377, 'Oakwood': 69, 'Upper Hill': 309, 'South Oakland': 294, 'West Oakland': 256, 'Spring Garden': 196, 'Allegheny West': 109, 'St. Clair': 42, 'Stanton Heights': 187, 'Esplen': 170, 'Squirrel Hill North': 224, 'Mt. Oliver Neighborhood': 2, 'Summer Hill': 60, 'Arlington Heights': 122, 'Troy Hill': 354, 'Central Business District': 3315, 'Central North Side': 716, 'Mount Oliver': 108, 'Windgap': 94, 'Outside State': 52, 'Duquesne Heights': 168, 'New Homestead': 35, 'Ridgemont': 29, 'Swisshelm Park': 33, 'Hays': 94, 'Chartiers City': 35, 'Mt. Oliver Boro': 18}\n"
     ]
    }
   ],
   "source": [
    "#Lets find the amount of arrests made in each neighborhood\n",
    "arrest_dict = dict()\n",
    "for index, row in arrest_data.iterrows():\n",
    "    neighborhood = row['INCIDENTNEIGHBORHOOD']\n",
    "    if neighborhood not in arrest_dict:\n",
    "        arrest_dict[neighborhood] = 1\n",
    "    else:\n",
    "        arrest_dict[neighborhood] += 1\n",
    "\n",
    "print(arrest_dict)\n"
   ]
  },
  {
   "cell_type": "code",
   "execution_count": null,
   "metadata": {},
   "outputs": [],
   "source": [
    "#Now that we have a dictionary where the keys are the neiborhoods \n",
    "import matplotlib.pyplot as mpl\n",
    "neighborhoods = list(arrest_dict.keys())\n",
    "arrests = list(arrest_dict.values())\n",
    "mpl.barh(range(len(arrest_dict)), arrests, tick_label=neighborhoods )\n",
    "mpl.rcParams[\"figure.figsize\"]=(12, 20)\n",
    "mpl.show().sort_values(ascending=True)"
   ]
  },
  {
   "cell_type": "code",
   "execution_count": null,
   "metadata": {},
   "outputs": [],
   "source": []
  },
  {
   "cell_type": "code",
   "execution_count": null,
   "metadata": {},
   "outputs": [],
   "source": []
  }
 ],
 "metadata": {
  "kernelspec": {
   "display_name": "Python 3",
   "language": "python",
   "name": "python3"
  },
  "language_info": {
   "codemirror_mode": {
    "name": "ipython",
    "version": 3
   },
   "file_extension": ".py",
   "mimetype": "text/x-python",
   "name": "python",
   "nbconvert_exporter": "python",
   "pygments_lexer": "ipython3",
   "version": "3.8.3"
  }
 },
 "nbformat": 4,
 "nbformat_minor": 4
}
